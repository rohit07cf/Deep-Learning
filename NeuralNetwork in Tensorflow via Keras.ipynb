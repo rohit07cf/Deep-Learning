{
 "cells": [
  {
   "cell_type": "markdown",
   "metadata": {},
   "source": [
    "# Neural Networkin Tensorflow"
   ]
  },
  {
   "cell_type": "code",
   "execution_count": 20,
   "metadata": {
    "collapsed": true
   },
   "outputs": [],
   "source": [
    "import tensorflow as tf;\n",
    "import sklearn.datasets;\n",
    "iris_ds = sklearn.datasets.load_iris(return_X_y=False)\n",
    "import pandas as pd"
   ]
  },
  {
   "cell_type": "code",
   "execution_count": 21,
   "metadata": {},
   "outputs": [
    {
     "data": {
      "text/plain": [
       "array([0, 0, 0, 0, 0, 0, 0, 0, 0, 0, 0, 0, 0, 0, 0, 0, 0, 0, 0, 0, 0, 0,\n",
       "       0, 0, 0, 0, 0, 0, 0, 0, 0, 0, 0, 0, 0, 0, 0, 0, 0, 0, 0, 0, 0, 0,\n",
       "       0, 0, 0, 0, 0, 0, 1, 1, 1, 1, 1, 1, 1, 1, 1, 1, 1, 1, 1, 1, 1, 1,\n",
       "       1, 1, 1, 1, 1, 1, 1, 1, 1, 1, 1, 1, 1, 1, 1, 1, 1, 1, 1, 1, 1, 1,\n",
       "       1, 1, 1, 1, 1, 1, 1, 1, 1, 1, 1, 1, 2, 2, 2, 2, 2, 2, 2, 2, 2, 2,\n",
       "       2, 2, 2, 2, 2, 2, 2, 2, 2, 2, 2, 2, 2, 2, 2, 2, 2, 2, 2, 2, 2, 2,\n",
       "       2, 2, 2, 2, 2, 2, 2, 2, 2, 2, 2, 2, 2, 2, 2, 2, 2, 2])"
      ]
     },
     "execution_count": 21,
     "metadata": {},
     "output_type": "execute_result"
    }
   ],
   "source": [
    "iris_ds.target"
   ]
  },
  {
   "cell_type": "code",
   "execution_count": 22,
   "metadata": {
    "collapsed": true
   },
   "outputs": [],
   "source": [
    "import numpy as np\n",
    "iris_data = pd.DataFrame(data=iris_ds.data,columns=iris_ds.feature_names)"
   ]
  },
  {
   "cell_type": "code",
   "execution_count": 23,
   "metadata": {},
   "outputs": [
    {
     "data": {
      "text/html": [
       "<div>\n",
       "<style scoped>\n",
       "    .dataframe tbody tr th:only-of-type {\n",
       "        vertical-align: middle;\n",
       "    }\n",
       "\n",
       "    .dataframe tbody tr th {\n",
       "        vertical-align: top;\n",
       "    }\n",
       "\n",
       "    .dataframe thead th {\n",
       "        text-align: right;\n",
       "    }\n",
       "</style>\n",
       "<table border=\"1\" class=\"dataframe\">\n",
       "  <thead>\n",
       "    <tr style=\"text-align: right;\">\n",
       "      <th></th>\n",
       "      <th>sepal length (cm)</th>\n",
       "      <th>sepal width (cm)</th>\n",
       "      <th>petal length (cm)</th>\n",
       "      <th>petal width (cm)</th>\n",
       "    </tr>\n",
       "  </thead>\n",
       "  <tbody>\n",
       "    <tr>\n",
       "      <th>0</th>\n",
       "      <td>5.1</td>\n",
       "      <td>3.5</td>\n",
       "      <td>1.4</td>\n",
       "      <td>0.2</td>\n",
       "    </tr>\n",
       "    <tr>\n",
       "      <th>1</th>\n",
       "      <td>4.9</td>\n",
       "      <td>3.0</td>\n",
       "      <td>1.4</td>\n",
       "      <td>0.2</td>\n",
       "    </tr>\n",
       "    <tr>\n",
       "      <th>2</th>\n",
       "      <td>4.7</td>\n",
       "      <td>3.2</td>\n",
       "      <td>1.3</td>\n",
       "      <td>0.2</td>\n",
       "    </tr>\n",
       "    <tr>\n",
       "      <th>3</th>\n",
       "      <td>4.6</td>\n",
       "      <td>3.1</td>\n",
       "      <td>1.5</td>\n",
       "      <td>0.2</td>\n",
       "    </tr>\n",
       "    <tr>\n",
       "      <th>4</th>\n",
       "      <td>5.0</td>\n",
       "      <td>3.6</td>\n",
       "      <td>1.4</td>\n",
       "      <td>0.2</td>\n",
       "    </tr>\n",
       "  </tbody>\n",
       "</table>\n",
       "</div>"
      ],
      "text/plain": [
       "   sepal length (cm)  sepal width (cm)  petal length (cm)  petal width (cm)\n",
       "0                5.1               3.5                1.4               0.2\n",
       "1                4.9               3.0                1.4               0.2\n",
       "2                4.7               3.2                1.3               0.2\n",
       "3                4.6               3.1                1.5               0.2\n",
       "4                5.0               3.6                1.4               0.2"
      ]
     },
     "execution_count": 23,
     "metadata": {},
     "output_type": "execute_result"
    }
   ],
   "source": [
    "iris_data.head()"
   ]
  },
  {
   "cell_type": "code",
   "execution_count": 24,
   "metadata": {
    "collapsed": true
   },
   "outputs": [],
   "source": [
    "from sklearn.model_selection import train_test_split"
   ]
  },
  {
   "cell_type": "code",
   "execution_count": 25,
   "metadata": {
    "collapsed": true
   },
   "outputs": [],
   "source": [
    "import sklearn;\n",
    "min_max_scaler = sklearn.preprocessing.MinMaxScaler()\n",
    "scaled_data = min_max_scaler.fit_transform(iris_data)\n"
   ]
  },
  {
   "cell_type": "code",
   "execution_count": 26,
   "metadata": {},
   "outputs": [
    {
     "name": "stderr",
     "output_type": "stream",
     "text": [
      "C:\\Users\\jaley\\Anaconda3\\envs\\condaenv\\lib\\site-packages\\sklearn\\preprocessing\\_encoders.py:331: DeprecationWarning: Passing 'n_values' is deprecated in version 0.20 and will be removed in 0.22. You can use the 'categories' keyword instead. 'n_values=n' corresponds to 'categories=[range(n)]'.\n",
      "  warnings.warn(msg, DeprecationWarning)\n"
     ]
    }
   ],
   "source": [
    "from sklearn.preprocessing import OneHotEncoder\n",
    "encoder = OneHotEncoder(3)\n",
    "label = encoder.fit_transform(iris_ds.target.reshape(-1,1))\n",
    "label = label.todense()"
   ]
  },
  {
   "cell_type": "code",
   "execution_count": 27,
   "metadata": {
    "collapsed": true
   },
   "outputs": [],
   "source": [
    "\n",
    "trainx,testx,trainy,testy = train_test_split(scaled_data,label)"
   ]
  },
  {
   "cell_type": "code",
   "execution_count": 28,
   "metadata": {},
   "outputs": [
    {
     "name": "stdout",
     "output_type": "stream",
     "text": [
      "(112, 4)\n"
     ]
    }
   ],
   "source": [
    "print (trainx.shape)"
   ]
  },
  {
   "cell_type": "markdown",
   "metadata": {},
   "source": [
    "#### Building a model in Tensorflow"
   ]
  },
  {
   "cell_type": "code",
   "execution_count": 10,
   "metadata": {
    "collapsed": true
   },
   "outputs": [],
   "source": [
    "import tensorflow as tf;\n",
    "x = tf.placeholder(tf.float32, shape=[None,4])\n",
    "y = tf.placeholder(tf.float32, shape=[None,3])\n",
    "w1 = tf.get_variable(name='w1',dtype=tf.float32,shape=[5,4])\n",
    "w2 = tf.get_variable(name='w2',dtype=tf.float32,shape=(3,5))\n",
    "b1 = tf.get_variable(name='b1',dtype=tf.float32,shape=(5,1))\n",
    "b2 = tf.get_variable(name='b2',dtype=tf.float32,shape=(3,1))"
   ]
  },
  {
   "cell_type": "code",
   "execution_count": 14,
   "metadata": {
    "collapsed": true
   },
   "outputs": [],
   "source": [
    "from tensorflow.contrib.keras import layers\n",
    "\n",
    "def build_model(x):\n",
    "    y1 = layers.Dense(units=5,activation=tf.nn.relu, input_shape=(None,4))(x)\n",
    "    print (y1.shape)\n",
    "    y2 = layers.Dense(units=3,activation=tf.nn.softmax,input_shape=(None,5))(y1)\n",
    "    print (y2.shape)\n",
    "    return y2"
   ]
  },
  {
   "cell_type": "code",
   "execution_count": 15,
   "metadata": {
    "collapsed": true
   },
   "outputs": [],
   "source": []
  },
  {
   "cell_type": "code",
   "execution_count": 16,
   "metadata": {},
   "outputs": [
    {
     "name": "stdout",
     "output_type": "stream",
     "text": [
      "(?, 5)\n",
      "(?, 3)\n"
     ]
    }
   ],
   "source": [
    "# Applying build_model\n",
    "\n",
    "y_hat = build_model(x)"
   ]
  },
  {
   "cell_type": "code",
   "execution_count": 17,
   "metadata": {
    "collapsed": true
   },
   "outputs": [],
   "source": [
    "accuracy = tf.reduce_mean(tf.cast(tf.equal(tf.argmax(y,1),tf.argmax(y_hat,1)),tf.float64))"
   ]
  },
  {
   "cell_type": "code",
   "execution_count": 18,
   "metadata": {
    "collapsed": true
   },
   "outputs": [],
   "source": [
    "entropy_loss = tf.losses.softmax_cross_entropy(logits=y_hat,onehot_labels=y)\n",
    "optimizer = tf.train.AdamOptimizer().minimize(entropy_loss)"
   ]
  },
  {
   "cell_type": "code",
   "execution_count": 29,
   "metadata": {},
   "outputs": [
    {
     "name": "stdout",
     "output_type": "stream",
     "text": [
      "loss=1.0407789,accuracy=0.23684210526315788\n",
      "loss=0.7483073,accuracy=0.23684210526315788\n",
      "loss=0.60680175,accuracy=0.5789473684210527\n",
      "loss=0.5752384,accuracy=0.5789473684210527\n",
      "loss=0.5636912,accuracy=0.5789473684210527\n",
      "loss=0.5583967,accuracy=0.5789473684210527\n",
      "loss=0.5555467,accuracy=0.5789473684210527\n",
      "loss=0.55462784,accuracy=0.6842105263157895\n",
      "loss=0.55430645,accuracy=0.7631578947368421\n",
      "loss=0.5539576,accuracy=0.8157894736842105\n",
      "loss=0.55339193,accuracy=0.8421052631578947\n",
      "loss=0.5529381,accuracy=0.8421052631578947\n",
      "loss=0.55258304,accuracy=0.8421052631578947\n",
      "loss=0.5522921,accuracy=0.8421052631578947\n",
      "loss=0.5520844,accuracy=0.868421052631579\n",
      "loss=0.5519173,accuracy=0.868421052631579\n",
      "loss=0.5518024,accuracy=0.868421052631579\n",
      "loss=0.5517181,accuracy=0.868421052631579\n",
      "loss=0.55163693,accuracy=0.8947368421052632\n",
      "loss=0.5515893,accuracy=0.8947368421052632\n",
      "loss=0.5515522,accuracy=0.8947368421052632\n",
      "loss=0.55152214,accuracy=0.868421052631579\n",
      "loss=0.5515005,accuracy=0.868421052631579\n",
      "loss=0.55148536,accuracy=0.868421052631579\n",
      "loss=0.5514735,accuracy=0.868421052631579\n",
      "loss=0.5514657,accuracy=0.868421052631579\n",
      "loss=0.5514599,accuracy=0.8947368421052632\n",
      "loss=0.5514554,accuracy=0.8947368421052632\n",
      "loss=0.5514515,accuracy=0.8947368421052632\n",
      "loss=0.5514622,accuracy=0.8947368421052632\n",
      "loss=0.55147225,accuracy=0.8947368421052632\n",
      "loss=0.5514733,accuracy=0.8947368421052632\n",
      "loss=0.5514721,accuracy=0.8947368421052632\n",
      "loss=0.5514691,accuracy=0.8947368421052632\n",
      "loss=0.5514659,accuracy=0.8947368421052632\n",
      "loss=0.55146277,accuracy=0.8947368421052632\n",
      "loss=0.5514599,accuracy=0.8947368421052632\n",
      "loss=0.5514574,accuracy=0.9210526315789473\n",
      "loss=0.5514554,accuracy=0.9210526315789473\n",
      "loss=0.55145353,accuracy=0.9210526315789473\n",
      "loss=0.55145186,accuracy=0.9210526315789473\n",
      "loss=0.55145043,accuracy=0.9210526315789473\n",
      "loss=0.5514494,accuracy=0.9210526315789473\n",
      "loss=0.5514486,accuracy=0.9210526315789473\n",
      "loss=0.5514478,accuracy=0.9210526315789473\n",
      "loss=0.5514473,accuracy=0.9210526315789473\n",
      "loss=0.55144674,accuracy=0.9210526315789473\n",
      "loss=0.5514463,accuracy=0.9210526315789473\n",
      "loss=0.5514459,accuracy=0.9210526315789473\n",
      "loss=0.55144566,accuracy=0.9210526315789473\n",
      "loss=0.5514455,accuracy=0.9210526315789473\n",
      "loss=0.55144525,accuracy=0.9210526315789473\n",
      "loss=0.5514452,accuracy=0.9210526315789473\n",
      "loss=0.55144507,accuracy=0.9210526315789473\n",
      "loss=0.551445,accuracy=0.9210526315789473\n",
      "loss=0.55144495,accuracy=0.9210526315789473\n",
      "loss=0.5514449,accuracy=0.9210526315789473\n",
      "loss=0.5514449,accuracy=0.9210526315789473\n",
      "loss=0.55144477,accuracy=0.9210526315789473\n",
      "loss=0.55144477,accuracy=0.9210526315789473\n"
     ]
    }
   ],
   "source": [
    "\n",
    "with tf.Session() as sess :\n",
    "    sess.run(tf.global_variables_initializer())\n",
    "    sess.run(tf.local_variables_initializer())\n",
    "    for j in range(300):\n",
    "        for i in range(len(trainx)):\n",
    "            x_val = np.array(trainx[i].reshape(1,-1),dtype=np.float32)\n",
    "            y_val = np.array(trainy[i].reshape(1,-1),dtype=np.float32)\n",
    "            optimizer.run(feed_dict={x:x_val,y:y_val})\n",
    "            _loss, = sess.run([entropy_loss] ,feed_dict={x:x_val,y:y_val})\n",
    "        if(j%5==0):\n",
    "            _acc = sess.run(accuracy,feed_dict={x:testx,y:testy})\n",
    "            print ('loss=%s,accuracy=%s'%(_loss,_acc))"
   ]
  },
  {
   "cell_type": "code",
   "execution_count": null,
   "metadata": {
    "collapsed": true
   },
   "outputs": [],
   "source": []
  }
 ],
 "metadata": {
  "kernelspec": {
   "display_name": "Python 3",
   "language": "python",
   "name": "python3"
  },
  "language_info": {
   "codemirror_mode": {
    "name": "ipython",
    "version": 3
   },
   "file_extension": ".py",
   "mimetype": "text/x-python",
   "name": "python",
   "nbconvert_exporter": "python",
   "pygments_lexer": "ipython3",
   "version": "3.6.3"
  }
 },
 "nbformat": 4,
 "nbformat_minor": 2
}
