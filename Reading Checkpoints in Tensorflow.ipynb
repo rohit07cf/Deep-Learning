{
 "cells": [
  {
   "cell_type": "code",
   "execution_count": 1,
   "metadata": {
    "collapsed": true
   },
   "outputs": [],
   "source": [
    "from tensorflow.python.tools.inspect_checkpoint import print_tensors_in_checkpoint_file\n",
    "from tensorflow.python import pywrap_tensorflow\n",
    "\n",
    "checkpoint_path = checkpoint_path = '/home/jaley/git/AI101-DeepLearning/raw/project3-finetuning-dogbreed/nn/pretrained/vgg_16.ckpt'\n",
    "reader = pywrap_tensorflow.NewCheckpointReader(checkpoint_path)\n",
    "var_to_shape_map = reader.get_variable_to_shape_map()"
   ]
  },
  {
   "cell_type": "code",
   "execution_count": 2,
   "metadata": {},
   "outputs": [
    {
     "name": "stdout",
     "output_type": "stream",
     "text": [
      "tensor_name is vgg_16/conv3/conv3_3/weights with shape (3, 3, 256, 256) \n",
      "tensor_name is vgg_16/conv3/conv3_2/weights with shape (3, 3, 256, 256) \n",
      "tensor_name is vgg_16/conv3/conv3_1/weights with shape (3, 3, 128, 256) \n",
      "tensor_name is vgg_16/conv2/conv2_2/weights with shape (3, 3, 128, 128) \n",
      "tensor_name is vgg_16/fc7/biases with shape (4096,) \n",
      "tensor_name is vgg_16/fc8/biases with shape (1000,) \n",
      "tensor_name is vgg_16/conv3/conv3_1/biases with shape (256,) \n",
      "tensor_name is vgg_16/conv1/conv1_2/biases with shape (64,) \n",
      "tensor_name is vgg_16/conv2/conv2_2/biases with shape (128,) \n",
      "tensor_name is vgg_16/conv2/conv2_1/weights with shape (3, 3, 64, 128) \n",
      "tensor_name is vgg_16/conv5/conv5_2/biases with shape (512,) \n",
      "tensor_name is vgg_16/conv5/conv5_2/weights with shape (3, 3, 512, 512) \n",
      "tensor_name is vgg_16/conv1/conv1_1/biases with shape (64,) \n",
      "tensor_name is vgg_16/conv3/conv3_3/biases with shape (256,) \n",
      "tensor_name is vgg_16/conv5/conv5_3/weights with shape (3, 3, 512, 512) \n",
      "tensor_name is vgg_16/fc8/weights with shape (1, 1, 4096, 1000) \n",
      "tensor_name is global_step with shape () \n",
      "tensor_name is vgg_16/conv5/conv5_1/biases with shape (512,) \n",
      "tensor_name is vgg_16/fc6/biases with shape (4096,) \n",
      "tensor_name is vgg_16/conv5/conv5_1/weights with shape (3, 3, 512, 512) \n",
      "tensor_name is vgg_16/fc6/weights with shape (7, 7, 512, 4096) \n",
      "tensor_name is vgg_16/conv5/conv5_3/biases with shape (512,) \n",
      "tensor_name is vgg_16/fc7/weights with shape (1, 1, 4096, 4096) \n",
      "tensor_name is vgg_16/conv1/conv1_1/weights with shape (3, 3, 3, 64) \n",
      "tensor_name is vgg_16/conv4/conv4_3/weights with shape (3, 3, 512, 512) \n",
      "tensor_name is vgg_16/conv2/conv2_1/biases with shape (128,) \n",
      "tensor_name is vgg_16/conv1/conv1_2/weights with shape (3, 3, 64, 64) \n",
      "tensor_name is vgg_16/conv3/conv3_2/biases with shape (256,) \n",
      "tensor_name is vgg_16/mean_rgb with shape (3,) \n",
      "tensor_name is vgg_16/conv4/conv4_3/biases with shape (512,) \n",
      "tensor_name is vgg_16/conv4/conv4_1/biases with shape (512,) \n",
      "tensor_name is vgg_16/conv4/conv4_2/weights with shape (3, 3, 512, 512) \n",
      "tensor_name is vgg_16/conv4/conv4_2/biases with shape (512,) \n",
      "tensor_name is vgg_16/conv4/conv4_1/weights with shape (3, 3, 256, 512) \n"
     ]
    }
   ],
   "source": [
    "for key in var_to_shape_map:\n",
    "    print(\"tensor_name is %s with shape %s \"%(key,reader.get_tensor(key).shape))"
   ]
  },
  {
   "cell_type": "code",
   "execution_count": null,
   "metadata": {
    "collapsed": true
   },
   "outputs": [],
   "source": []
  }
 ],
 "metadata": {
  "kernelspec": {
   "display_name": "Python 3",
   "language": "python",
   "name": "python3"
  },
  "language_info": {
   "codemirror_mode": {
    "name": "ipython",
    "version": 3
   },
   "file_extension": ".py",
   "mimetype": "text/x-python",
   "name": "python",
   "nbconvert_exporter": "python",
   "pygments_lexer": "ipython3",
   "version": "3.6.3"
  }
 },
 "nbformat": 4,
 "nbformat_minor": 2
}
